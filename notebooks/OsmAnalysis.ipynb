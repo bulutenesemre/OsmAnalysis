{
 "cells": [
  {
   "cell_type": "code",
   "execution_count": 1,
   "metadata": {},
   "outputs": [],
   "source": [
    "import findspark\n",
    "findspark.init()"
   ]
  },
  {
   "cell_type": "code",
   "execution_count": 2,
   "metadata": {},
   "outputs": [],
   "source": [
    "import pyspark\n",
    "import folium\n",
    "import pandas as pd\n",
    "import matplotlib.pyplot as plt\n",
    "import seaborn as sns\n",
    "from pyspark import SparkContext\n",
    "from pyspark.sql import SparkSession, SQLContext , functions\n",
    "from folium import plugins\n"
   ]
  },
  {
   "cell_type": "code",
   "execution_count": 3,
   "metadata": {},
   "outputs": [],
   "source": [
    "spark = SparkSession.builder \\\n",
    ".appName('ReadFromParquet') \\\n",
    ".master('local[6]') \\\n",
    ".getOrCreate()"
   ]
  },
  {
   "cell_type": "code",
   "execution_count": 4,
   "metadata": {},
   "outputs": [
    {
     "data": {
      "text/html": [
       "\n",
       "            <div>\n",
       "                <p><b>SparkSession - in-memory</b></p>\n",
       "                \n",
       "        <div>\n",
       "            <p><b>SparkContext</b></p>\n",
       "\n",
       "            <p><a href=\"http://192.168.1.22:4040\">Spark UI</a></p>\n",
       "\n",
       "            <dl>\n",
       "              <dt>Version</dt>\n",
       "                <dd><code>v2.4.3</code></dd>\n",
       "              <dt>Master</dt>\n",
       "                <dd><code>local[6]</code></dd>\n",
       "              <dt>AppName</dt>\n",
       "                <dd><code>ReadFromParquet</code></dd>\n",
       "            </dl>\n",
       "        </div>\n",
       "        \n",
       "            </div>\n",
       "        "
      ],
      "text/plain": [
       "<pyspark.sql.session.SparkSession at 0x7f04ce2e7fd0>"
      ]
     },
     "execution_count": 4,
     "metadata": {},
     "output_type": "execute_result"
    }
   ],
   "source": [
    "spark"
   ]
  },
  {
   "cell_type": "code",
   "execution_count": 5,
   "metadata": {},
   "outputs": [],
   "source": [
    "sc = spark.sparkContext\n",
    "sqlContext = SQLContext(sc)"
   ]
  },
  {
   "cell_type": "markdown",
   "metadata": {},
   "source": [
    "# Data Feature"
   ]
  },
  {
   "cell_type": "markdown",
   "metadata": {},
   "source": [
    "## osmWay"
   ]
  },
  {
   "cell_type": "code",
   "execution_count": 6,
   "metadata": {},
   "outputs": [],
   "source": [
    "sqlContext.setConf(\"spark.sql.parquet.binaryAsString\",\"true\")\n",
    "osmWay = sqlContext.read.parquet(\"../data/20190531-hungary.osm.pbf.way.parquet\")\n",
    "osmWay = osmWay.select('id','tags','nodes')\n",
    "osmWay.createOrReplaceTempView(\"osmWay\")\n",
    "\n",
    "\n"
   ]
  },
  {
   "cell_type": "code",
   "execution_count": 7,
   "metadata": {},
   "outputs": [
    {
     "name": "stdout",
     "output_type": "stream",
     "text": [
      "root\n",
      " |-- id: long (nullable = true)\n",
      " |-- tags: array (nullable = true)\n",
      " |    |-- element: struct (containsNull = true)\n",
      " |    |    |-- key: string (nullable = true)\n",
      " |    |    |-- value: string (nullable = true)\n",
      " |-- nodes: array (nullable = true)\n",
      " |    |-- element: struct (containsNull = true)\n",
      " |    |    |-- index: integer (nullable = true)\n",
      " |    |    |-- nodeId: long (nullable = true)\n",
      "\n"
     ]
    }
   ],
   "source": [
    "osmWay.printSchema()"
   ]
  },
  {
   "cell_type": "code",
   "execution_count": 8,
   "metadata": {},
   "outputs": [
    {
     "name": "stdout",
     "output_type": "stream",
     "text": [
      "+-------+--------------------+--------------------+\n",
      "|     id|                tags|               nodes|\n",
      "+-------+--------------------+--------------------+\n",
      "|3175810|[[highway, reside...|[[0, 15231786], [...|\n",
      "|3175943|[[highway, reside...|[[0, 15234255], [...|\n",
      "|3175983|[[highway, reside...|[[0, 15232076], [...|\n",
      "|3192356|[[highway, second...|[[0, 1259548666],...|\n",
      "|3212111|[[highway, second...|[[0, 15475952], [...|\n",
      "+-------+--------------------+--------------------+\n",
      "only showing top 5 rows\n",
      "\n"
     ]
    }
   ],
   "source": [
    "osmWay.show(5)"
   ]
  },
  {
   "cell_type": "code",
   "execution_count": 9,
   "metadata": {},
   "outputs": [
    {
     "data": {
      "text/plain": [
       "2509434"
      ]
     },
     "execution_count": 9,
     "metadata": {},
     "output_type": "execute_result"
    }
   ],
   "source": [
    "osmWay.count()"
   ]
  },
  {
   "cell_type": "markdown",
   "metadata": {},
   "source": [
    "## osmNode"
   ]
  },
  {
   "cell_type": "code",
   "execution_count": 10,
   "metadata": {},
   "outputs": [],
   "source": [
    "osmNode = sqlContext.read.parquet(\"../data/20190531-hungary.osm.pbf.node.parquet\")\n",
    "osmNode = osmNode.select('tags', 'latitude','longitude')\n",
    "osmNode.createOrReplaceTempView(\"osmNode\")"
   ]
  },
  {
   "cell_type": "code",
   "execution_count": 11,
   "metadata": {},
   "outputs": [
    {
     "name": "stdout",
     "output_type": "stream",
     "text": [
      "root\n",
      " |-- tags: array (nullable = true)\n",
      " |    |-- element: struct (containsNull = true)\n",
      " |    |    |-- key: string (nullable = true)\n",
      " |    |    |-- value: string (nullable = true)\n",
      " |-- latitude: double (nullable = true)\n",
      " |-- longitude: double (nullable = true)\n",
      "\n"
     ]
    }
   ],
   "source": [
    "osmNode.printSchema()"
   ]
  },
  {
   "cell_type": "code",
   "execution_count": 12,
   "metadata": {},
   "outputs": [
    {
     "name": "stdout",
     "output_type": "stream",
     "text": [
      "+----+------------------+------------------+\n",
      "|tags|          latitude|         longitude|\n",
      "+----+------------------+------------------+\n",
      "|  []|        47.5135549|19.047102000000002|\n",
      "|  []|        47.5135409|19.058013900000002|\n",
      "|  []|        47.5146097|19.058831700000002|\n",
      "|  []|        47.5166629|        19.0613926|\n",
      "|  []|47.514618000000006|        19.0435418|\n",
      "+----+------------------+------------------+\n",
      "only showing top 5 rows\n",
      "\n"
     ]
    }
   ],
   "source": [
    "osmNode.show(5)"
   ]
  },
  {
   "cell_type": "code",
   "execution_count": 13,
   "metadata": {},
   "outputs": [
    {
     "data": {
      "text/plain": [
       "17916477"
      ]
     },
     "execution_count": 13,
     "metadata": {},
     "output_type": "execute_result"
    }
   ],
   "source": [
    "osmNode.count()"
   ]
  },
  {
   "cell_type": "code",
   "execution_count": 14,
   "metadata": {},
   "outputs": [
    {
     "name": "stdout",
     "output_type": "stream",
     "text": [
      "+--------------------+------------------+------------------+\n",
      "|                tags|          latitude|         longitude|\n",
      "+--------------------+------------------+------------------+\n",
      "|[[amenity, taxi],...|        47.5470381|         19.028375|\n",
      "|   [[amenity, taxi]]|        47.4982064|        19.0704767|\n",
      "|   [[amenity, taxi]]|47.496360800000005|19.070999500000003|\n",
      "|   [[amenity, taxi]]|47.507562500000006|        19.0729668|\n",
      "|   [[amenity, taxi]]|47.499501300000006|        19.0646431|\n",
      "|   [[amenity, taxi]]|47.782211200000006|        19.1324766|\n",
      "|   [[amenity, taxi]]|        47.5420646|        19.1225384|\n",
      "|   [[amenity, taxi]]|        48.2466887|        20.6166425|\n",
      "|   [[amenity, taxi]]|46.353023300000004|        17.7953511|\n",
      "|   [[amenity, taxi]]|46.075580200000005|        18.2048794|\n",
      "|[[amenity, taxi],...|47.511096200000004|19.080156300000002|\n",
      "|   [[amenity, taxi]]|        47.9000818|        20.3767527|\n",
      "|   [[amenity, taxi]]|46.370169600000004|18.149269800000003|\n",
      "|   [[amenity, taxi]]|47.681249900000005|17.636871000000003|\n",
      "|   [[amenity, taxi]]|        47.4943144|        19.0383152|\n",
      "|[[amenity, taxi],...|        47.5058865|19.038680300000003|\n",
      "|   [[amenity, taxi]]|        46.1891935|        18.2660945|\n",
      "|   [[amenity, taxi]]|        47.1891838|         18.409127|\n",
      "|   [[amenity, taxi]]|48.100897100000005|20.730863000000003|\n",
      "|   [[amenity, taxi]]|        45.9904286|        18.6876803|\n",
      "+--------------------+------------------+------------------+\n",
      "only showing top 20 rows\n",
      "\n"
     ]
    }
   ],
   "source": [
    "sqlContext.sql(\"SELECT tags,latitude, longitude FROM osmNode WHERE tags[0].key='amenity' AND tags[0].value='taxi'\").show()"
   ]
  },
  {
   "cell_type": "markdown",
   "metadata": {},
   "source": [
    "## osmRelation"
   ]
  },
  {
   "cell_type": "code",
   "execution_count": 15,
   "metadata": {},
   "outputs": [],
   "source": [
    "osmRelation = sqlContext.read.parquet(\"../data/20190531-hungary.osm.pbf.relation.parquet\")\n",
    "osmRelation = osmRelation.select('id','tags','members')\n",
    "osmRelation.createOrReplaceTempView(\"osmRelation\")"
   ]
  },
  {
   "cell_type": "code",
   "execution_count": 17,
   "metadata": {},
   "outputs": [
    {
     "name": "stdout",
     "output_type": "stream",
     "text": [
      "root\n",
      " |-- id: long (nullable = true)\n",
      " |-- tags: array (nullable = true)\n",
      " |    |-- element: struct (containsNull = true)\n",
      " |    |    |-- key: string (nullable = true)\n",
      " |    |    |-- value: string (nullable = true)\n",
      " |-- members: array (nullable = true)\n",
      " |    |-- element: struct (containsNull = true)\n",
      " |    |    |-- id: long (nullable = true)\n",
      " |    |    |-- role: string (nullable = true)\n",
      " |    |    |-- type: string (nullable = true)\n",
      "\n"
     ]
    }
   ],
   "source": [
    "osmRelation.printSchema()"
   ]
  },
  {
   "cell_type": "code",
   "execution_count": 18,
   "metadata": {},
   "outputs": [
    {
     "name": "stdout",
     "output_type": "stream",
     "text": [
      "+-----+--------------------+--------------------+\n",
      "|   id|                tags|             members|\n",
      "+-----+--------------------+--------------------+\n",
      "|11772|[[addr:city, Buda...|[[24026306, inner...|\n",
      "|11832|[[building, yes],...|[[24035233, outer...|\n",
      "|11898|[[building, offic...|[[24345565, inner...|\n",
      "|12697|[[addr:city, Buda...|[[24260435, outer...|\n",
      "|12939|[[addr:conscripti...|[[24320909, outer...|\n",
      "+-----+--------------------+--------------------+\n",
      "only showing top 5 rows\n",
      "\n"
     ]
    }
   ],
   "source": [
    "osmRelation.show(5)"
   ]
  },
  {
   "cell_type": "code",
   "execution_count": 19,
   "metadata": {},
   "outputs": [
    {
     "data": {
      "text/plain": [
       "12983"
      ]
     },
     "execution_count": 19,
     "metadata": {},
     "output_type": "execute_result"
    }
   ],
   "source": [
    "osmRelation.count()"
   ]
  }
 ],
 "metadata": {
  "kernelspec": {
   "display_name": "jupyter3.7",
   "language": "python",
   "name": "jupyter"
  },
  "language_info": {
   "codemirror_mode": {
    "name": "ipython",
    "version": 3
   },
   "file_extension": ".py",
   "mimetype": "text/x-python",
   "name": "python",
   "nbconvert_exporter": "python",
   "pygments_lexer": "ipython3",
   "version": "3.7.2"
  }
 },
 "nbformat": 4,
 "nbformat_minor": 2
}
